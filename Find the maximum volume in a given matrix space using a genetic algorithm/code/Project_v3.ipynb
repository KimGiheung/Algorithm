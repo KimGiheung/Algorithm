{
  "nbformat": 4,
  "nbformat_minor": 0,
  "metadata": {
    "colab": {
      "provenance": []
    },
    "kernelspec": {
      "name": "python3",
      "display_name": "Python 3"
    },
    "language_info": {
      "name": "python"
    }
  },
  "cells": [
    {
      "cell_type": "markdown",
      "source": [
        "# 1.문제 정의"
      ],
      "metadata": {
        "id": "4Ugr5DL0y4Ws"
      }
    },
    {
      "cell_type": "code",
      "execution_count": 5,
      "metadata": {
        "id": "f0AzFBlJX6Zh",
        "colab": {
          "base_uri": "https://localhost:8080/"
        },
        "outputId": "1b351c15-2bea-4c13-e602-1953b69311be"
      },
      "outputs": [
        {
          "output_type": "stream",
          "name": "stdout",
          "text": [
            "(20, 10000)\n"
          ]
        }
      ],
      "source": [
        "import numpy as np\n",
        "import pandas as pd\n",
        "\n",
        "# 데이터 불러오기\n",
        "data = pd.read_csv('/content/drive/MyDrive/2023-2알고리즘/[Project] 주어진 행렬 공간 중에서 최대 volume 구하기/input.csv')\n",
        "vectors = data.iloc[0:20].to_numpy()  # 첫 행은 인덱스, 나머지가 벡터 값\n",
        "\n",
        "# 초기 설정\n",
        "num_vectors = 20    # 행렬의 행 수\n",
        "population_size = 100  # 인구 크기\n",
        "vector_length = 10000  # 전체 벡터의 수 설정 (예시로 10000으로 가정)\n",
        "num_generations = 100  # 세대 수\n",
        "mutation_rate = 0.1   # 돌연변이율\n",
        "print(vectors.shape)"
      ]
    },
    {
      "cell_type": "markdown",
      "source": [
        "# 2. 초기 인구 생성\n"
      ],
      "metadata": {
        "id": "Rll5lEkEy7KV"
      }
    },
    {
      "cell_type": "code",
      "source": [
        "def initialize_population(pop_size, num_vectors):\n",
        "    # 각 행렬의 열이 중복되지 않도록 선택\n",
        "    population = []\n",
        "    for _ in range(pop_size):\n",
        "        x_indices = np.random.choice(num_vectors, 2, replace=False)\n",
        "        y_indices = np.random.choice(vector_length, 2, replace=False)\n",
        "        indices = np.stack((x_indices, y_indices), axis=-1)\n",
        "        population.append(indices)\n",
        "    return np.array(population)\n",
        "\n",
        "# x와 y 좌표를 결합하여 2차원 인덱스 생성\n",
        "population = initialize_population(population_size, num_vectors)\n",
        "print(population)\n",
        "population = population.reshape(100,4)\n",
        "print(population)"
      ],
      "metadata": {
        "id": "xQw7nUwfy7Zc",
        "colab": {
          "base_uri": "https://localhost:8080/"
        },
        "outputId": "cbe0cfbc-f098-4400-a254-302503675236"
      },
      "execution_count": 11,
      "outputs": [
        {
          "output_type": "stream",
          "name": "stdout",
          "text": [
            "[[[   9 3777]\n",
            "  [  15 5547]]\n",
            "\n",
            " [[  11 8059]\n",
            "  [  12 2687]]\n",
            "\n",
            " [[  15 3815]\n",
            "  [  13 7404]]\n",
            "\n",
            " [[  13 3513]\n",
            "  [  15 8977]]\n",
            "\n",
            " [[  15 1602]\n",
            "  [   2 8168]]\n",
            "\n",
            " [[  17 2408]\n",
            "  [  19 6029]]\n",
            "\n",
            " [[  10 6921]\n",
            "  [  16 4378]]\n",
            "\n",
            " [[   0 2238]\n",
            "  [  19 4766]]\n",
            "\n",
            " [[  18 8572]\n",
            "  [  19 3637]]\n",
            "\n",
            " [[   1 6763]\n",
            "  [   6 4115]]\n",
            "\n",
            " [[   0  369]\n",
            "  [   1  913]]\n",
            "\n",
            " [[  15 7980]\n",
            "  [  18 6394]]\n",
            "\n",
            " [[   1 6679]\n",
            "  [   8 9658]]\n",
            "\n",
            " [[   6 1166]\n",
            "  [  17 8287]]\n",
            "\n",
            " [[   1 3425]\n",
            "  [   0 4132]]\n",
            "\n",
            " [[   3 9046]\n",
            "  [  17  553]]\n",
            "\n",
            " [[   2 1858]\n",
            "  [  12 6053]]\n",
            "\n",
            " [[  13  432]\n",
            "  [   9 2833]]\n",
            "\n",
            " [[   0 6708]\n",
            "  [  11 5966]]\n",
            "\n",
            " [[  17  775]\n",
            "  [  18 2008]]\n",
            "\n",
            " [[  16 9016]\n",
            "  [   9 7544]]\n",
            "\n",
            " [[  10  846]\n",
            "  [  15 5913]]\n",
            "\n",
            " [[   6 6251]\n",
            "  [  16 5035]]\n",
            "\n",
            " [[   2 2069]\n",
            "  [  19 6135]]\n",
            "\n",
            " [[  11 1491]\n",
            "  [  12 7923]]\n",
            "\n",
            " [[  17 1395]\n",
            "  [   0 2347]]\n",
            "\n",
            " [[   8 1427]\n",
            "  [   6 8592]]\n",
            "\n",
            " [[  12 2552]\n",
            "  [   2 7861]]\n",
            "\n",
            " [[   4  275]\n",
            "  [   7 1347]]\n",
            "\n",
            " [[  11 3347]\n",
            "  [  19 8884]]\n",
            "\n",
            " [[  17 9162]\n",
            "  [   3 5887]]\n",
            "\n",
            " [[   7 6946]\n",
            "  [   5 7656]]\n",
            "\n",
            " [[  15 5029]\n",
            "  [   9 1518]]\n",
            "\n",
            " [[   8 6694]\n",
            "  [   7 7729]]\n",
            "\n",
            " [[   7 5702]\n",
            "  [   5 6034]]\n",
            "\n",
            " [[   8 5887]\n",
            "  [  13 3511]]\n",
            "\n",
            " [[   3  200]\n",
            "  [   8 5701]]\n",
            "\n",
            " [[  19 5483]\n",
            "  [  15   17]]\n",
            "\n",
            " [[   0 4448]\n",
            "  [   2  752]]\n",
            "\n",
            " [[   2 9032]\n",
            "  [  14 8875]]\n",
            "\n",
            " [[   8 1962]\n",
            "  [  13 5530]]\n",
            "\n",
            " [[   5  570]\n",
            "  [  10 8579]]\n",
            "\n",
            " [[  19 8337]\n",
            "  [  14 9126]]\n",
            "\n",
            " [[   2 4775]\n",
            "  [   3 3276]]\n",
            "\n",
            " [[  14 7327]\n",
            "  [  15 2508]]\n",
            "\n",
            " [[   6 6345]\n",
            "  [  10 7717]]\n",
            "\n",
            " [[   8 5430]\n",
            "  [   4 6345]]\n",
            "\n",
            " [[   0 5493]\n",
            "  [  19 3138]]\n",
            "\n",
            " [[  18 5981]\n",
            "  [  11 2509]]\n",
            "\n",
            " [[   7 9240]\n",
            "  [  12 1177]]\n",
            "\n",
            " [[  16 4893]\n",
            "  [   3 8017]]\n",
            "\n",
            " [[  19 2682]\n",
            "  [   1 6447]]\n",
            "\n",
            " [[  17 9502]\n",
            "  [   5  165]]\n",
            "\n",
            " [[  19  648]\n",
            "  [   4 7939]]\n",
            "\n",
            " [[   0 3329]\n",
            "  [  18 7324]]\n",
            "\n",
            " [[  17 5568]\n",
            "  [   7  134]]\n",
            "\n",
            " [[  13 2195]\n",
            "  [   9 5919]]\n",
            "\n",
            " [[   5 4328]\n",
            "  [  11 8913]]\n",
            "\n",
            " [[   9 1845]\n",
            "  [   7  101]]\n",
            "\n",
            " [[   3 8575]\n",
            "  [   5 1129]]\n",
            "\n",
            " [[  19  857]\n",
            "  [  13 5786]]\n",
            "\n",
            " [[   2 4528]\n",
            "  [   1 6222]]\n",
            "\n",
            " [[   3 3770]\n",
            "  [   2 8656]]\n",
            "\n",
            " [[  13 9896]\n",
            "  [  10 6355]]\n",
            "\n",
            " [[  12 8826]\n",
            "  [   4 1256]]\n",
            "\n",
            " [[  17 4954]\n",
            "  [   7 6816]]\n",
            "\n",
            " [[   1 5754]\n",
            "  [  16  134]]\n",
            "\n",
            " [[   9 1039]\n",
            "  [   6 2491]]\n",
            "\n",
            " [[  11 3811]\n",
            "  [   3  652]]\n",
            "\n",
            " [[   3 4884]\n",
            "  [   2 2436]]\n",
            "\n",
            " [[   3 4591]\n",
            "  [   8 6706]]\n",
            "\n",
            " [[  11  719]\n",
            "  [   9 8338]]\n",
            "\n",
            " [[  12 5451]\n",
            "  [   8  824]]\n",
            "\n",
            " [[   6 1260]\n",
            "  [   1 8366]]\n",
            "\n",
            " [[  14 8489]\n",
            "  [  15 1708]]\n",
            "\n",
            " [[   6 2915]\n",
            "  [  19 8535]]\n",
            "\n",
            " [[  15 9415]\n",
            "  [  14 6287]]\n",
            "\n",
            " [[  16 6442]\n",
            "  [  18 3481]]\n",
            "\n",
            " [[   1  360]\n",
            "  [  10  986]]\n",
            "\n",
            " [[  16 6632]\n",
            "  [  14 6316]]\n",
            "\n",
            " [[  10 2660]\n",
            "  [   0 2455]]\n",
            "\n",
            " [[  19 1648]\n",
            "  [   3 9831]]\n",
            "\n",
            " [[   0 5915]\n",
            "  [   5 4121]]\n",
            "\n",
            " [[  16 1390]\n",
            "  [  12 4887]]\n",
            "\n",
            " [[   5 7476]\n",
            "  [   8 2596]]\n",
            "\n",
            " [[   1 5945]\n",
            "  [  19 7651]]\n",
            "\n",
            " [[  10 8828]\n",
            "  [  16 1120]]\n",
            "\n",
            " [[   9 6599]\n",
            "  [  12 1579]]\n",
            "\n",
            " [[  18 2993]\n",
            "  [  13 9778]]\n",
            "\n",
            " [[  11 8478]\n",
            "  [   0 2372]]\n",
            "\n",
            " [[  15 1585]\n",
            "  [  11 5365]]\n",
            "\n",
            " [[   3 9811]\n",
            "  [   9 2979]]\n",
            "\n",
            " [[   4  900]\n",
            "  [   6 6814]]\n",
            "\n",
            " [[  17 3871]\n",
            "  [   7 9498]]\n",
            "\n",
            " [[  17 7719]\n",
            "  [   8 1736]]\n",
            "\n",
            " [[  15 6192]\n",
            "  [  17  250]]\n",
            "\n",
            " [[  11 6237]\n",
            "  [   2 5949]]\n",
            "\n",
            " [[  10 7131]\n",
            "  [   3 2935]]\n",
            "\n",
            " [[  18 3496]\n",
            "  [  11 3759]]\n",
            "\n",
            " [[  14 9326]\n",
            "  [   5  473]]]\n",
            "[[   9 3777   15 5547]\n",
            " [  11 8059   12 2687]\n",
            " [  15 3815   13 7404]\n",
            " [  13 3513   15 8977]\n",
            " [  15 1602    2 8168]\n",
            " [  17 2408   19 6029]\n",
            " [  10 6921   16 4378]\n",
            " [   0 2238   19 4766]\n",
            " [  18 8572   19 3637]\n",
            " [   1 6763    6 4115]\n",
            " [   0  369    1  913]\n",
            " [  15 7980   18 6394]\n",
            " [   1 6679    8 9658]\n",
            " [   6 1166   17 8287]\n",
            " [   1 3425    0 4132]\n",
            " [   3 9046   17  553]\n",
            " [   2 1858   12 6053]\n",
            " [  13  432    9 2833]\n",
            " [   0 6708   11 5966]\n",
            " [  17  775   18 2008]\n",
            " [  16 9016    9 7544]\n",
            " [  10  846   15 5913]\n",
            " [   6 6251   16 5035]\n",
            " [   2 2069   19 6135]\n",
            " [  11 1491   12 7923]\n",
            " [  17 1395    0 2347]\n",
            " [   8 1427    6 8592]\n",
            " [  12 2552    2 7861]\n",
            " [   4  275    7 1347]\n",
            " [  11 3347   19 8884]\n",
            " [  17 9162    3 5887]\n",
            " [   7 6946    5 7656]\n",
            " [  15 5029    9 1518]\n",
            " [   8 6694    7 7729]\n",
            " [   7 5702    5 6034]\n",
            " [   8 5887   13 3511]\n",
            " [   3  200    8 5701]\n",
            " [  19 5483   15   17]\n",
            " [   0 4448    2  752]\n",
            " [   2 9032   14 8875]\n",
            " [   8 1962   13 5530]\n",
            " [   5  570   10 8579]\n",
            " [  19 8337   14 9126]\n",
            " [   2 4775    3 3276]\n",
            " [  14 7327   15 2508]\n",
            " [   6 6345   10 7717]\n",
            " [   8 5430    4 6345]\n",
            " [   0 5493   19 3138]\n",
            " [  18 5981   11 2509]\n",
            " [   7 9240   12 1177]\n",
            " [  16 4893    3 8017]\n",
            " [  19 2682    1 6447]\n",
            " [  17 9502    5  165]\n",
            " [  19  648    4 7939]\n",
            " [   0 3329   18 7324]\n",
            " [  17 5568    7  134]\n",
            " [  13 2195    9 5919]\n",
            " [   5 4328   11 8913]\n",
            " [   9 1845    7  101]\n",
            " [   3 8575    5 1129]\n",
            " [  19  857   13 5786]\n",
            " [   2 4528    1 6222]\n",
            " [   3 3770    2 8656]\n",
            " [  13 9896   10 6355]\n",
            " [  12 8826    4 1256]\n",
            " [  17 4954    7 6816]\n",
            " [   1 5754   16  134]\n",
            " [   9 1039    6 2491]\n",
            " [  11 3811    3  652]\n",
            " [   3 4884    2 2436]\n",
            " [   3 4591    8 6706]\n",
            " [  11  719    9 8338]\n",
            " [  12 5451    8  824]\n",
            " [   6 1260    1 8366]\n",
            " [  14 8489   15 1708]\n",
            " [   6 2915   19 8535]\n",
            " [  15 9415   14 6287]\n",
            " [  16 6442   18 3481]\n",
            " [   1  360   10  986]\n",
            " [  16 6632   14 6316]\n",
            " [  10 2660    0 2455]\n",
            " [  19 1648    3 9831]\n",
            " [   0 5915    5 4121]\n",
            " [  16 1390   12 4887]\n",
            " [   5 7476    8 2596]\n",
            " [   1 5945   19 7651]\n",
            " [  10 8828   16 1120]\n",
            " [   9 6599   12 1579]\n",
            " [  18 2993   13 9778]\n",
            " [  11 8478    0 2372]\n",
            " [  15 1585   11 5365]\n",
            " [   3 9811    9 2979]\n",
            " [   4  900    6 6814]\n",
            " [  17 3871    7 9498]\n",
            " [  17 7719    8 1736]\n",
            " [  15 6192   17  250]\n",
            " [  11 6237    2 5949]\n",
            " [  10 7131    3 2935]\n",
            " [  18 3496   11 3759]\n",
            " [  14 9326    5  473]]\n"
          ]
        }
      ]
    },
    {
      "cell_type": "markdown",
      "source": [
        "# 3. 적합도 함수 정의\n"
      ],
      "metadata": {
        "id": "EhoQ9tk7y7eb"
      }
    },
    {
      "cell_type": "code",
      "source": [
        "# 3. 적합도 함수 정의\n",
        "def fitness(matrix):\n",
        "    matrix_product = np.dot(matrix, matrix.transpose())\n",
        "    matrix_det = np.linalg.det(matrix_product)\n",
        "    if np.abs(matrix_det) < 1e-5:  # 행렬식이 매우 작은 경우 낮은 적합도 반환\n",
        "        return 0\n",
        "    volume = np.sqrt(np.abs(matrix_det))\n",
        "    return volume\n",
        "\n",
        "# print(fitness(vectors))\n",
        "\n",
        "def evaluate_population(vectors):\n",
        "    fitness_scores = []\n",
        "    # population (100, 100, 20, 2) 100개의 개체군이 각각(100x20) 행렬로 이루어져 있으며,\n",
        "    # 각 개체군의 요소는 vectors의 index [x, y]쌍으로 가지고 있다.\n",
        "    matrix = []\n",
        "    for individual in population:\n",
        "      # 각 개체군을 가져옴. mtx.shape = (100, 20, 20)\n",
        "      # 각 개체의 인덱스를 사용하여 vectors에서 실제 값을 가져와 행렬을 생성\n",
        "      matrix.append([vectors[x1:x2][y1:y2] for x1, x2, y1, y2 in individual])\n",
        "\n",
        "    matrix = np.array(matrix)\n",
        "      # print(\"matrix\")\n",
        "      # print(matrix)\n",
        "      # print(fitness(matrix))\n",
        "    fitness_scores.append(fitness(matrix))\n",
        "    return np.array(fitness_scores)\n",
        "\n",
        "\n",
        "\n",
        "fitness_scores = evaluate_population(vectors)\n",
        "print(fitness_scores.shape)\n",
        "print(*fitness_scores, sep = '\\n')"
      ],
      "metadata": {
        "colab": {
          "base_uri": "https://localhost:8080/",
          "height": 411
        },
        "id": "-pTeeGHCy7i8",
        "outputId": "402a6fb4-7e4c-4918-d3fc-52bc818cae5c"
      },
      "execution_count": 12,
      "outputs": [
        {
          "output_type": "error",
          "ename": "TypeError",
          "evalue": "ignored",
          "traceback": [
            "\u001b[0;31m---------------------------------------------------------------------------\u001b[0m",
            "\u001b[0;31mTypeError\u001b[0m                                 Traceback (most recent call last)",
            "\u001b[0;32m<ipython-input-12-b8cc81c2fde7>\u001b[0m in \u001b[0;36m<cell line: 31>\u001b[0;34m()\u001b[0m\n\u001b[1;32m     29\u001b[0m \u001b[0;34m\u001b[0m\u001b[0m\n\u001b[1;32m     30\u001b[0m \u001b[0;34m\u001b[0m\u001b[0m\n\u001b[0;32m---> 31\u001b[0;31m \u001b[0mfitness_scores\u001b[0m \u001b[0;34m=\u001b[0m \u001b[0mevaluate_population\u001b[0m\u001b[0;34m(\u001b[0m\u001b[0mvectors\u001b[0m\u001b[0;34m)\u001b[0m\u001b[0;34m\u001b[0m\u001b[0;34m\u001b[0m\u001b[0m\n\u001b[0m\u001b[1;32m     32\u001b[0m \u001b[0mprint\u001b[0m\u001b[0;34m(\u001b[0m\u001b[0mfitness_scores\u001b[0m\u001b[0;34m.\u001b[0m\u001b[0mshape\u001b[0m\u001b[0;34m)\u001b[0m\u001b[0;34m\u001b[0m\u001b[0;34m\u001b[0m\u001b[0m\n\u001b[1;32m     33\u001b[0m \u001b[0mprint\u001b[0m\u001b[0;34m(\u001b[0m\u001b[0;34m*\u001b[0m\u001b[0mfitness_scores\u001b[0m\u001b[0;34m,\u001b[0m \u001b[0msep\u001b[0m \u001b[0;34m=\u001b[0m \u001b[0;34m'\\n'\u001b[0m\u001b[0;34m)\u001b[0m\u001b[0;34m\u001b[0m\u001b[0;34m\u001b[0m\u001b[0m\n",
            "\u001b[0;32m<ipython-input-12-b8cc81c2fde7>\u001b[0m in \u001b[0;36mevaluate_population\u001b[0;34m(vectors)\u001b[0m\n\u001b[1;32m     18\u001b[0m       \u001b[0;31m# 각 개체군을 가져옴. mtx.shape = (100, 20, 20)\u001b[0m\u001b[0;34m\u001b[0m\u001b[0;34m\u001b[0m\u001b[0m\n\u001b[1;32m     19\u001b[0m       \u001b[0;31m# 각 개체의 인덱스를 사용하여 vectors에서 실제 값을 가져와 행렬을 생성\u001b[0m\u001b[0;34m\u001b[0m\u001b[0;34m\u001b[0m\u001b[0m\n\u001b[0;32m---> 20\u001b[0;31m       \u001b[0mmatrix\u001b[0m\u001b[0;34m.\u001b[0m\u001b[0mappend\u001b[0m\u001b[0;34m(\u001b[0m\u001b[0;34m[\u001b[0m\u001b[0mvectors\u001b[0m\u001b[0;34m[\u001b[0m\u001b[0mx1\u001b[0m\u001b[0;34m:\u001b[0m\u001b[0mx2\u001b[0m\u001b[0;34m]\u001b[0m\u001b[0;34m[\u001b[0m\u001b[0my1\u001b[0m\u001b[0;34m:\u001b[0m\u001b[0my2\u001b[0m\u001b[0;34m]\u001b[0m \u001b[0;32mfor\u001b[0m \u001b[0mx1\u001b[0m\u001b[0;34m,\u001b[0m \u001b[0mx2\u001b[0m\u001b[0;34m,\u001b[0m \u001b[0my1\u001b[0m\u001b[0;34m,\u001b[0m \u001b[0my2\u001b[0m \u001b[0;32min\u001b[0m \u001b[0mindividual\u001b[0m\u001b[0;34m]\u001b[0m\u001b[0;34m)\u001b[0m\u001b[0;34m\u001b[0m\u001b[0;34m\u001b[0m\u001b[0m\n\u001b[0m\u001b[1;32m     21\u001b[0m \u001b[0;34m\u001b[0m\u001b[0m\n\u001b[1;32m     22\u001b[0m     \u001b[0mmatrix\u001b[0m \u001b[0;34m=\u001b[0m \u001b[0mnp\u001b[0m\u001b[0;34m.\u001b[0m\u001b[0marray\u001b[0m\u001b[0;34m(\u001b[0m\u001b[0mmatrix\u001b[0m\u001b[0;34m)\u001b[0m\u001b[0;34m\u001b[0m\u001b[0;34m\u001b[0m\u001b[0m\n",
            "\u001b[0;32m<ipython-input-12-b8cc81c2fde7>\u001b[0m in \u001b[0;36m<listcomp>\u001b[0;34m(.0)\u001b[0m\n\u001b[1;32m     18\u001b[0m       \u001b[0;31m# 각 개체군을 가져옴. mtx.shape = (100, 20, 20)\u001b[0m\u001b[0;34m\u001b[0m\u001b[0;34m\u001b[0m\u001b[0m\n\u001b[1;32m     19\u001b[0m       \u001b[0;31m# 각 개체의 인덱스를 사용하여 vectors에서 실제 값을 가져와 행렬을 생성\u001b[0m\u001b[0;34m\u001b[0m\u001b[0;34m\u001b[0m\u001b[0m\n\u001b[0;32m---> 20\u001b[0;31m       \u001b[0mmatrix\u001b[0m\u001b[0;34m.\u001b[0m\u001b[0mappend\u001b[0m\u001b[0;34m(\u001b[0m\u001b[0;34m[\u001b[0m\u001b[0mvectors\u001b[0m\u001b[0;34m[\u001b[0m\u001b[0mx1\u001b[0m\u001b[0;34m:\u001b[0m\u001b[0mx2\u001b[0m\u001b[0;34m]\u001b[0m\u001b[0;34m[\u001b[0m\u001b[0my1\u001b[0m\u001b[0;34m:\u001b[0m\u001b[0my2\u001b[0m\u001b[0;34m]\u001b[0m \u001b[0;32mfor\u001b[0m \u001b[0mx1\u001b[0m\u001b[0;34m,\u001b[0m \u001b[0mx2\u001b[0m\u001b[0;34m,\u001b[0m \u001b[0my1\u001b[0m\u001b[0;34m,\u001b[0m \u001b[0my2\u001b[0m \u001b[0;32min\u001b[0m \u001b[0mindividual\u001b[0m\u001b[0;34m]\u001b[0m\u001b[0;34m)\u001b[0m\u001b[0;34m\u001b[0m\u001b[0;34m\u001b[0m\u001b[0m\n\u001b[0m\u001b[1;32m     21\u001b[0m \u001b[0;34m\u001b[0m\u001b[0m\n\u001b[1;32m     22\u001b[0m     \u001b[0mmatrix\u001b[0m \u001b[0;34m=\u001b[0m \u001b[0mnp\u001b[0m\u001b[0;34m.\u001b[0m\u001b[0marray\u001b[0m\u001b[0;34m(\u001b[0m\u001b[0mmatrix\u001b[0m\u001b[0;34m)\u001b[0m\u001b[0;34m\u001b[0m\u001b[0;34m\u001b[0m\u001b[0m\n",
            "\u001b[0;31mTypeError\u001b[0m: cannot unpack non-iterable numpy.int64 object"
          ]
        }
      ]
    },
    {
      "cell_type": "markdown",
      "source": [
        "# 4. 선택"
      ],
      "metadata": {
        "id": "GRee0CU8y7nM"
      }
    },
    {
      "cell_type": "code",
      "source": [
        "def select_parents(population, fitness_scores):\n",
        "    # fitness_scores.sum()이 0인 경우 예외 처리\n",
        "    if fitness_scores.sum() == 0:\n",
        "        # 확률을 균등하게 설정\n",
        "        probabilities = np.ones(len(fitness_scores)) / len(fitness_scores)\n",
        "    else:\n",
        "        probabilities = fitness_scores / fitness_scores.sum()\n",
        "\n",
        "    selected_indices = np.random.choice(len(population), size=len(population), replace=True, p=probabilities)\n",
        "    return population[selected_indices]\n",
        "\n",
        "parents = select_parents(population, fitness_scores)"
      ],
      "metadata": {
        "id": "QY7xKkkmy7rE"
      },
      "execution_count": null,
      "outputs": []
    },
    {
      "cell_type": "markdown",
      "source": [
        "# 5. 교차"
      ],
      "metadata": {
        "id": "su1gX0Svy7ut"
      }
    },
    {
      "cell_type": "code",
      "source": [
        "def crossover(parents):\n",
        "    offspring = []\n",
        "    for i in range(0, len(parents), 2):\n",
        "        parent1 = parents[i]\n",
        "        parent2 = parents[i + 1]\n",
        "        cut = np.random.randint(1, len(parent1)-1)\n",
        "        child1 = np.concatenate([parent1[:cut], parent2[cut:]])\n",
        "        child2 = np.concatenate([parent2[:cut], parent1[cut:]])\n",
        "        offspring.extend([child1, child2])\n",
        "    return np.array(offspring)\n",
        "\n",
        "offspring = crossover(parents)\n"
      ],
      "metadata": {
        "id": "BGDmmT50y7yG"
      },
      "execution_count": null,
      "outputs": []
    },
    {
      "cell_type": "markdown",
      "source": [
        "# 6. 돌연변이"
      ],
      "metadata": {
        "id": "5QX2JyP-y71k"
      }
    },
    {
      "cell_type": "code",
      "source": [
        "# 돌연변이 함수\n",
        "def mutation(offspring_crossover, mutation_rate, num_vectors):\n",
        "    for idx in range(offspring_crossover.shape[0]):\n",
        "        if np.random.rand() < mutation_rate:\n",
        "            random_index = np.random.randint(offspring_crossover.shape[1])\n",
        "            random_value = np.random.randint(num_vectors)\n",
        "            offspring_crossover[idx, random_index] = random_value\n",
        "    return offspring_crossover\n",
        "# 돌연변이 함수 호출\n",
        "num_vectors = 10000  # 전체 벡터의 수 설정\n",
        "mutated_offspring = mutation(offspring, mutation_rate, num_vectors)\n"
      ],
      "metadata": {
        "id": "nz8PYd24y74c"
      },
      "execution_count": null,
      "outputs": []
    },
    {
      "cell_type": "markdown",
      "source": [
        "# 7-8. 새로운 세대 생성 및 종료 조건 검사"
      ],
      "metadata": {
        "id": "aYOkXo1wy77U"
      }
    },
    {
      "cell_type": "code",
      "source": [
        "for generation in range(num_generations):\n",
        "    fitness_scores = evaluate_population(population, vectors)\n",
        "    parents = select_parents(population, fitness_scores)\n",
        "    offspring = crossover(parents)  # 여기서 두 번째 인자 제거\n",
        "    mutated_offspring = mutation(offspring, mutation_rate, num_vectors)\n",
        "    population = mutated_offspring\n",
        "    # 종료 조건 검사\n",
        "    # ...\n"
      ],
      "metadata": {
        "id": "zQYG-Bxby7-d",
        "colab": {
          "base_uri": "https://localhost:8080/",
          "height": 258
        },
        "outputId": "ff117cae-3e1f-4914-f71a-35ec67a10b9d"
      },
      "execution_count": null,
      "outputs": [
        {
          "output_type": "error",
          "ename": "TypeError",
          "evalue": "ignored",
          "traceback": [
            "\u001b[0;31m---------------------------------------------------------------------------\u001b[0m",
            "\u001b[0;31mTypeError\u001b[0m                                 Traceback (most recent call last)",
            "\u001b[0;32m<ipython-input-80-93cdf9ea394a>\u001b[0m in \u001b[0;36m<cell line: 1>\u001b[0;34m()\u001b[0m\n\u001b[1;32m      1\u001b[0m \u001b[0;32mfor\u001b[0m \u001b[0mgeneration\u001b[0m \u001b[0;32min\u001b[0m \u001b[0mrange\u001b[0m\u001b[0;34m(\u001b[0m\u001b[0mnum_generations\u001b[0m\u001b[0;34m)\u001b[0m\u001b[0;34m:\u001b[0m\u001b[0;34m\u001b[0m\u001b[0;34m\u001b[0m\u001b[0m\n\u001b[0;32m----> 2\u001b[0;31m     \u001b[0mfitness_scores\u001b[0m \u001b[0;34m=\u001b[0m \u001b[0mevaluate_population\u001b[0m\u001b[0;34m(\u001b[0m\u001b[0mpopulation\u001b[0m\u001b[0;34m,\u001b[0m \u001b[0mvectors\u001b[0m\u001b[0;34m)\u001b[0m\u001b[0;34m\u001b[0m\u001b[0;34m\u001b[0m\u001b[0m\n\u001b[0m\u001b[1;32m      3\u001b[0m     \u001b[0mparents\u001b[0m \u001b[0;34m=\u001b[0m \u001b[0mselect_parents\u001b[0m\u001b[0;34m(\u001b[0m\u001b[0mpopulation\u001b[0m\u001b[0;34m,\u001b[0m \u001b[0mfitness_scores\u001b[0m\u001b[0;34m)\u001b[0m\u001b[0;34m\u001b[0m\u001b[0;34m\u001b[0m\u001b[0m\n\u001b[1;32m      4\u001b[0m     \u001b[0moffspring\u001b[0m \u001b[0;34m=\u001b[0m \u001b[0mcrossover\u001b[0m\u001b[0;34m(\u001b[0m\u001b[0mparents\u001b[0m\u001b[0;34m)\u001b[0m  \u001b[0;31m# 여기서 두 번째 인자 제거\u001b[0m\u001b[0;34m\u001b[0m\u001b[0;34m\u001b[0m\u001b[0m\n\u001b[1;32m      5\u001b[0m     \u001b[0mmutated_offspring\u001b[0m \u001b[0;34m=\u001b[0m \u001b[0mmutation\u001b[0m\u001b[0;34m(\u001b[0m\u001b[0moffspring\u001b[0m\u001b[0;34m,\u001b[0m \u001b[0mmutation_rate\u001b[0m\u001b[0;34m,\u001b[0m \u001b[0mnum_vectors\u001b[0m\u001b[0;34m)\u001b[0m\u001b[0;34m\u001b[0m\u001b[0;34m\u001b[0m\u001b[0m\n",
            "\u001b[0;31mTypeError\u001b[0m: evaluate_population() takes 1 positional argument but 2 were given"
          ]
        }
      ]
    },
    {
      "cell_type": "markdown",
      "source": [
        "# 9. 결과 추출"
      ],
      "metadata": {
        "id": "vQfVxQ2Iy8Bd"
      }
    },
    {
      "cell_type": "code",
      "source": [
        "final_fitness = evaluate_population(population, vectors)\n",
        "best_index = np.argmax(final_fitness)\n",
        "best_solution = population[best_index]\n",
        "best_volume = final_fitness[best_index]\n",
        "\n",
        "print(\"최대 볼륨:\", best_volume)\n",
        "print(\"해당 벡터의 인덱스:\", best_solution)\n"
      ],
      "metadata": {
        "id": "IxxUgyNQzQEo",
        "colab": {
          "base_uri": "https://localhost:8080/",
          "height": 258
        },
        "outputId": "a6435456-d97e-480b-b36d-ea96ac203d5e"
      },
      "execution_count": null,
      "outputs": [
        {
          "output_type": "error",
          "ename": "TypeError",
          "evalue": "ignored",
          "traceback": [
            "\u001b[0;31m---------------------------------------------------------------------------\u001b[0m",
            "\u001b[0;31mTypeError\u001b[0m                                 Traceback (most recent call last)",
            "\u001b[0;32m<ipython-input-81-d711a62fd7d4>\u001b[0m in \u001b[0;36m<cell line: 1>\u001b[0;34m()\u001b[0m\n\u001b[0;32m----> 1\u001b[0;31m \u001b[0mfinal_fitness\u001b[0m \u001b[0;34m=\u001b[0m \u001b[0mevaluate_population\u001b[0m\u001b[0;34m(\u001b[0m\u001b[0mpopulation\u001b[0m\u001b[0;34m,\u001b[0m \u001b[0mvectors\u001b[0m\u001b[0;34m)\u001b[0m\u001b[0;34m\u001b[0m\u001b[0;34m\u001b[0m\u001b[0m\n\u001b[0m\u001b[1;32m      2\u001b[0m \u001b[0mbest_index\u001b[0m \u001b[0;34m=\u001b[0m \u001b[0mnp\u001b[0m\u001b[0;34m.\u001b[0m\u001b[0margmax\u001b[0m\u001b[0;34m(\u001b[0m\u001b[0mfinal_fitness\u001b[0m\u001b[0;34m)\u001b[0m\u001b[0;34m\u001b[0m\u001b[0;34m\u001b[0m\u001b[0m\n\u001b[1;32m      3\u001b[0m \u001b[0mbest_solution\u001b[0m \u001b[0;34m=\u001b[0m \u001b[0mpopulation\u001b[0m\u001b[0;34m[\u001b[0m\u001b[0mbest_index\u001b[0m\u001b[0;34m]\u001b[0m\u001b[0;34m\u001b[0m\u001b[0;34m\u001b[0m\u001b[0m\n\u001b[1;32m      4\u001b[0m \u001b[0mbest_volume\u001b[0m \u001b[0;34m=\u001b[0m \u001b[0mfinal_fitness\u001b[0m\u001b[0;34m[\u001b[0m\u001b[0mbest_index\u001b[0m\u001b[0;34m]\u001b[0m\u001b[0;34m\u001b[0m\u001b[0;34m\u001b[0m\u001b[0m\n\u001b[1;32m      5\u001b[0m \u001b[0;34m\u001b[0m\u001b[0m\n",
            "\u001b[0;31mTypeError\u001b[0m: evaluate_population() takes 1 positional argument but 2 were given"
          ]
        }
      ]
    },
    {
      "cell_type": "code",
      "source": [],
      "metadata": {
        "id": "aIVdVdc93oKB"
      },
      "execution_count": null,
      "outputs": []
    }
  ]
}