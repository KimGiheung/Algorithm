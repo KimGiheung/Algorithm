{
  "nbformat": 4,
  "nbformat_minor": 0,
  "metadata": {
    "colab": {
      "provenance": []
    },
    "kernelspec": {
      "name": "python3",
      "display_name": "Python 3"
    },
    "language_info": {
      "name": "python"
    }
  },
  "cells": [
    {
      "cell_type": "markdown",
      "source": [
        "# 1.문제 정의"
      ],
      "metadata": {
        "id": "4Ugr5DL0y4Ws"
      }
    },
    {
      "cell_type": "code",
      "execution_count": null,
      "metadata": {
        "id": "f0AzFBlJX6Zh",
        "colab": {
          "base_uri": "https://localhost:8080/"
        },
        "outputId": "a4d65bfc-362e-42f1-ffcd-ef3eb7ef2a8c"
      },
      "outputs": [
        {
          "output_type": "stream",
          "name": "stdout",
          "text": [
            "[[ 0.09130457  0.31296659 -0.3277619  ...  0.17386052 -0.49610621\n",
            "   0.95447834]\n",
            " [-1.94118936  0.63436125  0.21332334 ...  2.63566329  0.98461692\n",
            "  -2.05137763]\n",
            " [ 1.20599072  0.63773173  0.37202377 ...  0.1490941  -0.16698097\n",
            "   0.70955588]\n",
            " ...\n",
            " [-1.51843521  0.6081658   0.01824384 ...  2.1008383  -0.13667624\n",
            "  -0.88527608]\n",
            " [ 1.31471571 -1.06830117 -0.25633056 ... -1.24862182  0.09704474\n",
            "   1.50861745]\n",
            " [ 1.23136462 -0.02520689  0.74379476 ...  0.345985   -2.36028857\n",
            "   1.78184592]]\n"
          ]
        }
      ],
      "source": [
        "import numpy as np\n",
        "import pandas as pd\n",
        "\n",
        "# 데이터 불러오기\n",
        "data = pd.read_csv('/content/drive/MyDrive/2023-2알고리즘/[Project] 주어진 행렬 공간 중에서 최대 volume 구하기/input.csv')\n",
        "vectors = data.iloc[1:21].to_numpy()  # 첫 행은 인덱스, 나머지가 벡터 값\n",
        "\n",
        "# 초기 설정\n",
        "num_vectors = 20    # 행렬의 행 수\n",
        "population_size = 100  # 인구 크기\n",
        "vector_length = 10000  # 전체 벡터의 수 설정 (예시로 10000으로 가정)\n",
        "num_generations = 100  # 세대 수\n",
        "mutation_rate = 0.1   # 돌연변이율\n",
        "print(vectors)"
      ]
    },
    {
      "cell_type": "markdown",
      "source": [
        "# 2. 초기 인구 생성\n"
      ],
      "metadata": {
        "id": "Rll5lEkEy7KV"
      }
    },
    {
      "cell_type": "code",
      "source": [
        "def initialize_population(pop_size, num_vectors):\n",
        "    # x 좌표를 0부터 19 사이에서 선택\n",
        "    x_indices = np.random.randint(0, num_vectors-1, size=(pop_size, num_vectors))\n",
        "\n",
        "    # y 좌표를 0부터 9999 사이에서 선택\n",
        "    y_indices = np.random.randint(0, vector_length-1, size=(pop_size, num_vectors))\n",
        "\n",
        "    # x와 y 좌표를 결합하여 2차원 인덱스 생성\n",
        "    indices = np.stack((x_indices, y_indices), axis=-1)\n",
        "\n",
        "    return indices\n",
        "\n",
        "\n",
        "population = initialize_population(population_size, num_vectors)\n",
        "print(\"population size: \", population.shape)\n",
        "print(population)"
      ],
      "metadata": {
        "id": "xQw7nUwfy7Zc",
        "colab": {
          "base_uri": "https://localhost:8080/"
        },
        "outputId": "12f34ba4-0004-4bfc-a4c1-9476ff0ce88a"
      },
      "execution_count": null,
      "outputs": [
        {
          "output_type": "stream",
          "name": "stdout",
          "text": [
            "population size:  (100, 20, 2)\n",
            "[[[   7 1628]\n",
            "  [   1 3510]\n",
            "  [  16 8227]\n",
            "  ...\n",
            "  [   3  553]\n",
            "  [  18 2946]\n",
            "  [  14 1708]]\n",
            "\n",
            " [[   7 5255]\n",
            "  [  10 9175]\n",
            "  [  16 6648]\n",
            "  ...\n",
            "  [  15 8159]\n",
            "  [  14 4677]\n",
            "  [  15 2392]]\n",
            "\n",
            " [[  18 2017]\n",
            "  [  14 3538]\n",
            "  [   2   91]\n",
            "  ...\n",
            "  [  15 7136]\n",
            "  [   8 9253]\n",
            "  [  17 1139]]\n",
            "\n",
            " ...\n",
            "\n",
            " [[  17 3833]\n",
            "  [   8 7499]\n",
            "  [  15 3816]\n",
            "  ...\n",
            "  [  12 5391]\n",
            "  [   4 4853]\n",
            "  [  14 1072]]\n",
            "\n",
            " [[  14  223]\n",
            "  [  12 3490]\n",
            "  [   6 8707]\n",
            "  ...\n",
            "  [  10 3158]\n",
            "  [   4 9690]\n",
            "  [   8 4592]]\n",
            "\n",
            " [[   4 6813]\n",
            "  [  13 1624]\n",
            "  [  14 5871]\n",
            "  ...\n",
            "  [   8 9606]\n",
            "  [   0  733]\n",
            "  [  16 2150]]]\n"
          ]
        }
      ]
    },
    {
      "cell_type": "markdown",
      "source": [
        "# 3. 적합도 함수 정의\n"
      ],
      "metadata": {
        "id": "EhoQ9tk7y7eb"
      }
    },
    {
      "cell_type": "code",
      "source": [
        "def fitness(matrix):\n",
        "    return np.abs(np.linalg.det(matrix))\n",
        "\n",
        "def evaluate_population(population, vectors):\n",
        "    fitness_scores = []\n",
        "    for indices in population:\n",
        "        matrix = vectors[:, indices]\n",
        "        fitness_scores.append(fitness(matrix))\n",
        "    return np.array(fitness_scores)\n",
        "\n",
        "fitness_scores = evaluate_population(population, vectors)\n"
      ],
      "metadata": {
        "colab": {
          "base_uri": "https://localhost:8080/",
          "height": 373
        },
        "id": "-pTeeGHCy7i8",
        "outputId": "58b28ee8-4b4a-45f9-f58a-a73803364432"
      },
      "execution_count": null,
      "outputs": [
        {
          "output_type": "error",
          "ename": "LinAlgError",
          "evalue": "ignored",
          "traceback": [
            "\u001b[0;31m---------------------------------------------------------------------------\u001b[0m",
            "\u001b[0;31mLinAlgError\u001b[0m                               Traceback (most recent call last)",
            "\u001b[0;32m<ipython-input-48-ec351c99c9f5>\u001b[0m in \u001b[0;36m<cell line: 11>\u001b[0;34m()\u001b[0m\n\u001b[1;32m      9\u001b[0m     \u001b[0;32mreturn\u001b[0m \u001b[0mnp\u001b[0m\u001b[0;34m.\u001b[0m\u001b[0marray\u001b[0m\u001b[0;34m(\u001b[0m\u001b[0mfitness_scores\u001b[0m\u001b[0;34m)\u001b[0m\u001b[0;34m\u001b[0m\u001b[0;34m\u001b[0m\u001b[0m\n\u001b[1;32m     10\u001b[0m \u001b[0;34m\u001b[0m\u001b[0m\n\u001b[0;32m---> 11\u001b[0;31m \u001b[0mfitness_scores\u001b[0m \u001b[0;34m=\u001b[0m \u001b[0mevaluate_population\u001b[0m\u001b[0;34m(\u001b[0m\u001b[0mpopulation\u001b[0m\u001b[0;34m,\u001b[0m \u001b[0mvectors\u001b[0m\u001b[0;34m)\u001b[0m\u001b[0;34m\u001b[0m\u001b[0;34m\u001b[0m\u001b[0m\n\u001b[0m",
            "\u001b[0;32m<ipython-input-48-ec351c99c9f5>\u001b[0m in \u001b[0;36mevaluate_population\u001b[0;34m(population, vectors)\u001b[0m\n\u001b[1;32m      6\u001b[0m     \u001b[0;32mfor\u001b[0m \u001b[0mindices\u001b[0m \u001b[0;32min\u001b[0m \u001b[0mpopulation\u001b[0m\u001b[0;34m:\u001b[0m\u001b[0;34m\u001b[0m\u001b[0;34m\u001b[0m\u001b[0m\n\u001b[1;32m      7\u001b[0m         \u001b[0mmatrix\u001b[0m \u001b[0;34m=\u001b[0m \u001b[0mvectors\u001b[0m\u001b[0;34m[\u001b[0m\u001b[0;34m:\u001b[0m\u001b[0;34m,\u001b[0m \u001b[0mindices\u001b[0m\u001b[0;34m]\u001b[0m\u001b[0;34m\u001b[0m\u001b[0;34m\u001b[0m\u001b[0m\n\u001b[0;32m----> 8\u001b[0;31m         \u001b[0mfitness_scores\u001b[0m\u001b[0;34m.\u001b[0m\u001b[0mappend\u001b[0m\u001b[0;34m(\u001b[0m\u001b[0mfitness\u001b[0m\u001b[0;34m(\u001b[0m\u001b[0mmatrix\u001b[0m\u001b[0;34m)\u001b[0m\u001b[0;34m)\u001b[0m\u001b[0;34m\u001b[0m\u001b[0;34m\u001b[0m\u001b[0m\n\u001b[0m\u001b[1;32m      9\u001b[0m     \u001b[0;32mreturn\u001b[0m \u001b[0mnp\u001b[0m\u001b[0;34m.\u001b[0m\u001b[0marray\u001b[0m\u001b[0;34m(\u001b[0m\u001b[0mfitness_scores\u001b[0m\u001b[0;34m)\u001b[0m\u001b[0;34m\u001b[0m\u001b[0;34m\u001b[0m\u001b[0m\n\u001b[1;32m     10\u001b[0m \u001b[0;34m\u001b[0m\u001b[0m\n",
            "\u001b[0;32m<ipython-input-48-ec351c99c9f5>\u001b[0m in \u001b[0;36mfitness\u001b[0;34m(matrix)\u001b[0m\n\u001b[1;32m      1\u001b[0m \u001b[0;32mdef\u001b[0m \u001b[0mfitness\u001b[0m\u001b[0;34m(\u001b[0m\u001b[0mmatrix\u001b[0m\u001b[0;34m)\u001b[0m\u001b[0;34m:\u001b[0m\u001b[0;34m\u001b[0m\u001b[0;34m\u001b[0m\u001b[0m\n\u001b[0;32m----> 2\u001b[0;31m     \u001b[0;32mreturn\u001b[0m \u001b[0mnp\u001b[0m\u001b[0;34m.\u001b[0m\u001b[0mabs\u001b[0m\u001b[0;34m(\u001b[0m\u001b[0mnp\u001b[0m\u001b[0;34m.\u001b[0m\u001b[0mlinalg\u001b[0m\u001b[0;34m.\u001b[0m\u001b[0mdet\u001b[0m\u001b[0;34m(\u001b[0m\u001b[0mmatrix\u001b[0m\u001b[0;34m)\u001b[0m\u001b[0;34m)\u001b[0m\u001b[0;34m\u001b[0m\u001b[0;34m\u001b[0m\u001b[0m\n\u001b[0m\u001b[1;32m      3\u001b[0m \u001b[0;34m\u001b[0m\u001b[0m\n\u001b[1;32m      4\u001b[0m \u001b[0;32mdef\u001b[0m \u001b[0mevaluate_population\u001b[0m\u001b[0;34m(\u001b[0m\u001b[0mpopulation\u001b[0m\u001b[0;34m,\u001b[0m \u001b[0mvectors\u001b[0m\u001b[0;34m)\u001b[0m\u001b[0;34m:\u001b[0m\u001b[0;34m\u001b[0m\u001b[0;34m\u001b[0m\u001b[0m\n\u001b[1;32m      5\u001b[0m     \u001b[0mfitness_scores\u001b[0m \u001b[0;34m=\u001b[0m \u001b[0;34m[\u001b[0m\u001b[0;34m]\u001b[0m\u001b[0;34m\u001b[0m\u001b[0;34m\u001b[0m\u001b[0m\n",
            "\u001b[0;32m/usr/local/lib/python3.10/dist-packages/numpy/core/overrides.py\u001b[0m in \u001b[0;36mdet\u001b[0;34m(*args, **kwargs)\u001b[0m\n",
            "\u001b[0;32m/usr/local/lib/python3.10/dist-packages/numpy/linalg/linalg.py\u001b[0m in \u001b[0;36mdet\u001b[0;34m(a)\u001b[0m\n\u001b[1;32m   2149\u001b[0m     \u001b[0ma\u001b[0m \u001b[0;34m=\u001b[0m \u001b[0masarray\u001b[0m\u001b[0;34m(\u001b[0m\u001b[0ma\u001b[0m\u001b[0;34m)\u001b[0m\u001b[0;34m\u001b[0m\u001b[0;34m\u001b[0m\u001b[0m\n\u001b[1;32m   2150\u001b[0m     \u001b[0m_assert_stacked_2d\u001b[0m\u001b[0;34m(\u001b[0m\u001b[0ma\u001b[0m\u001b[0;34m)\u001b[0m\u001b[0;34m\u001b[0m\u001b[0;34m\u001b[0m\u001b[0m\n\u001b[0;32m-> 2151\u001b[0;31m     \u001b[0m_assert_stacked_square\u001b[0m\u001b[0;34m(\u001b[0m\u001b[0ma\u001b[0m\u001b[0;34m)\u001b[0m\u001b[0;34m\u001b[0m\u001b[0;34m\u001b[0m\u001b[0m\n\u001b[0m\u001b[1;32m   2152\u001b[0m     \u001b[0mt\u001b[0m\u001b[0;34m,\u001b[0m \u001b[0mresult_t\u001b[0m \u001b[0;34m=\u001b[0m \u001b[0m_commonType\u001b[0m\u001b[0;34m(\u001b[0m\u001b[0ma\u001b[0m\u001b[0;34m)\u001b[0m\u001b[0;34m\u001b[0m\u001b[0;34m\u001b[0m\u001b[0m\n\u001b[1;32m   2153\u001b[0m     \u001b[0msignature\u001b[0m \u001b[0;34m=\u001b[0m \u001b[0;34m'D->D'\u001b[0m \u001b[0;32mif\u001b[0m \u001b[0misComplexType\u001b[0m\u001b[0;34m(\u001b[0m\u001b[0mt\u001b[0m\u001b[0;34m)\u001b[0m \u001b[0;32melse\u001b[0m \u001b[0;34m'd->d'\u001b[0m\u001b[0;34m\u001b[0m\u001b[0;34m\u001b[0m\u001b[0m\n",
            "\u001b[0;32m/usr/local/lib/python3.10/dist-packages/numpy/linalg/linalg.py\u001b[0m in \u001b[0;36m_assert_stacked_square\u001b[0;34m(*arrays)\u001b[0m\n\u001b[1;32m    202\u001b[0m         \u001b[0mm\u001b[0m\u001b[0;34m,\u001b[0m \u001b[0mn\u001b[0m \u001b[0;34m=\u001b[0m \u001b[0ma\u001b[0m\u001b[0;34m.\u001b[0m\u001b[0mshape\u001b[0m\u001b[0;34m[\u001b[0m\u001b[0;34m-\u001b[0m\u001b[0;36m2\u001b[0m\u001b[0;34m:\u001b[0m\u001b[0;34m]\u001b[0m\u001b[0;34m\u001b[0m\u001b[0;34m\u001b[0m\u001b[0m\n\u001b[1;32m    203\u001b[0m         \u001b[0;32mif\u001b[0m \u001b[0mm\u001b[0m \u001b[0;34m!=\u001b[0m \u001b[0mn\u001b[0m\u001b[0;34m:\u001b[0m\u001b[0;34m\u001b[0m\u001b[0;34m\u001b[0m\u001b[0m\n\u001b[0;32m--> 204\u001b[0;31m             \u001b[0;32mraise\u001b[0m \u001b[0mLinAlgError\u001b[0m\u001b[0;34m(\u001b[0m\u001b[0;34m'Last 2 dimensions of the array must be square'\u001b[0m\u001b[0;34m)\u001b[0m\u001b[0;34m\u001b[0m\u001b[0;34m\u001b[0m\u001b[0m\n\u001b[0m\u001b[1;32m    205\u001b[0m \u001b[0;34m\u001b[0m\u001b[0m\n\u001b[1;32m    206\u001b[0m \u001b[0;32mdef\u001b[0m \u001b[0m_assert_finite\u001b[0m\u001b[0;34m(\u001b[0m\u001b[0;34m*\u001b[0m\u001b[0marrays\u001b[0m\u001b[0;34m)\u001b[0m\u001b[0;34m:\u001b[0m\u001b[0;34m\u001b[0m\u001b[0;34m\u001b[0m\u001b[0m\n",
            "\u001b[0;31mLinAlgError\u001b[0m: Last 2 dimensions of the array must be square"
          ]
        }
      ]
    },
    {
      "cell_type": "markdown",
      "source": [
        "# 4. 선택"
      ],
      "metadata": {
        "id": "GRee0CU8y7nM"
      }
    },
    {
      "cell_type": "code",
      "source": [
        "def select_parents(population, fitness_scores):\n",
        "    probabilities = fitness_scores / fitness_scores.sum()\n",
        "    selected_indices = np.random.choice(len(population), size=len(population), replace=True, p=probabilities)\n",
        "    return population[selected_indices]\n",
        "\n",
        "parents = select_parents(population, fitness_scores)\n"
      ],
      "metadata": {
        "id": "QY7xKkkmy7rE"
      },
      "execution_count": null,
      "outputs": []
    },
    {
      "cell_type": "markdown",
      "source": [
        "# 5. 교차"
      ],
      "metadata": {
        "id": "su1gX0Svy7ut"
      }
    },
    {
      "cell_type": "code",
      "source": [
        "def crossover(parents):\n",
        "    offspring = []\n",
        "    for i in range(0, len(parents), 2):\n",
        "        parent1 = parents[i]\n",
        "        parent2 = parents[i + 1]\n",
        "        cut = np.random.randint(1, len(parent1)-1)\n",
        "        child1 = np.concatenate([parent1[:cut], parent2[cut:]])\n",
        "        child2 = np.concatenate([parent2[:cut], parent1[cut:]])\n",
        "        offspring.extend([child1, child2])\n",
        "    return np.array(offspring)\n",
        "\n",
        "offspring = crossover(parents)\n"
      ],
      "metadata": {
        "id": "BGDmmT50y7yG"
      },
      "execution_count": null,
      "outputs": []
    },
    {
      "cell_type": "markdown",
      "source": [
        "# 6. 돌연변이"
      ],
      "metadata": {
        "id": "5QX2JyP-y71k"
      }
    },
    {
      "cell_type": "code",
      "source": [
        "# 돌연변이 함수\n",
        "def mutation(offspring_crossover, mutation_rate, num_vectors):\n",
        "    for idx in range(offspring_crossover.shape[0]):\n",
        "        if np.random.rand() < mutation_rate:\n",
        "            random_index = np.random.randint(offspring_crossover.shape[1])\n",
        "            random_value = np.random.randint(num_vectors)\n",
        "            offspring_crossover[idx, random_index] = random_value\n",
        "    return offspring_crossover\n",
        "# 돌연변이 함수 호출\n",
        "num_vectors = 10000  # 전체 벡터의 수 설정\n",
        "mutated_offspring = mutation(offspring, mutation_rate, num_vectors)\n"
      ],
      "metadata": {
        "id": "nz8PYd24y74c"
      },
      "execution_count": null,
      "outputs": []
    },
    {
      "cell_type": "markdown",
      "source": [
        "# 7-8. 새로운 세대 생성 및 종료 조건 검사"
      ],
      "metadata": {
        "id": "aYOkXo1wy77U"
      }
    },
    {
      "cell_type": "code",
      "source": [
        "for generation in range(num_generations):\n",
        "    fitness_scores = evaluate_population(population, vectors)\n",
        "    parents = select_parents(population, fitness_scores)\n",
        "    offspring = crossover(parents)  # 여기서 두 번째 인자 제거\n",
        "    mutated_offspring = mutation(offspring, mutation_rate, num_vectors)\n",
        "    population = mutated_offspring\n",
        "    # 종료 조건 검사\n",
        "    # ...\n"
      ],
      "metadata": {
        "id": "zQYG-Bxby7-d"
      },
      "execution_count": null,
      "outputs": []
    },
    {
      "cell_type": "markdown",
      "source": [
        "# 9. 결과 추출"
      ],
      "metadata": {
        "id": "vQfVxQ2Iy8Bd"
      }
    },
    {
      "cell_type": "code",
      "source": [
        "final_fitness = evaluate_population(population, vectors)\n",
        "best_index = np.argmax(final_fitness)\n",
        "best_solution = population[best_index]\n",
        "best_volume = final_fitness[best_index]\n",
        "\n",
        "print(\"최대 볼륨:\", best_volume)\n",
        "print(\"해당 벡터의 인덱스:\", best_solution)\n"
      ],
      "metadata": {
        "id": "IxxUgyNQzQEo"
      },
      "execution_count": null,
      "outputs": []
    },
    {
      "cell_type": "code",
      "source": [],
      "metadata": {
        "id": "aIVdVdc93oKB"
      },
      "execution_count": null,
      "outputs": []
    }
  ]
}