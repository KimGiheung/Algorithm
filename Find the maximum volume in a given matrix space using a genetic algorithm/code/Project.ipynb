{
  "nbformat": 4,
  "nbformat_minor": 0,
  "metadata": {
    "colab": {
      "provenance": []
    },
    "kernelspec": {
      "name": "python3",
      "display_name": "Python 3"
    },
    "language_info": {
      "name": "python"
    }
  },
  "cells": [
    {
      "cell_type": "markdown",
      "source": [
        "# 1.문제 정의"
      ],
      "metadata": {
        "id": "4Ugr5DL0y4Ws"
      }
    },
    {
      "cell_type": "code",
      "execution_count": 10,
      "metadata": {
        "id": "f0AzFBlJX6Zh"
      },
      "outputs": [],
      "source": [
        "import numpy as np\n",
        "import pandas as pd\n",
        "\n",
        "# 데이터 불러오기\n",
        "data = pd.read_csv('/content/drive/MyDrive/2023-2알고리즘/[Project] 주어진 행렬 공간 중에서 최대 volume 구하기/input.csv')\n",
        "vectors = data.iloc[1:21].to_numpy()  # 첫 행은 인덱스, 나머지가 벡터 값\n",
        "\n",
        "# 초기 설정\n",
        "num_vectors = 20    # 행렬의 행 수\n",
        "population_size = 100  # 인구 크기\n",
        "num_vectors = 20  # 선택할 벡터의 수 설정\n",
        "vector_length = 10000  # 전체 벡터의 수 설정 (예시로 10000으로 가정)\n",
        "\n",
        "num_generations = 100  # 세대 수\n",
        "mutation_rate = 0.1   # 돌연변이율\n"
      ]
    },
    {
      "cell_type": "markdown",
      "source": [
        "# 2. 초기 인구 생성\n"
      ],
      "metadata": {
        "id": "Rll5lEkEy7KV"
      }
    },
    {
      "cell_type": "code",
      "source": [
        "def initialize_population(pop_size, num_vectors, vector_length):\n",
        "    # 벡터의 총 개수(vector_length)에서 num_vectors 만큼의 샘플을 중복을 허용하여 선택\n",
        "    return np.random.choice(vector_length, size=(pop_size, num_vectors), replace=True)\n",
        "\n",
        "population = initialize_population(population_size, num_vectors, vector_length)\n"
      ],
      "metadata": {
        "id": "xQw7nUwfy7Zc"
      },
      "execution_count": 13,
      "outputs": []
    },
    {
      "cell_type": "markdown",
      "source": [
        "# 3. 적합도 함수 정의\n"
      ],
      "metadata": {
        "id": "EhoQ9tk7y7eb"
      }
    },
    {
      "cell_type": "code",
      "source": [
        "def fitness(matrix):\n",
        "    # n x n 부분 행렬의 행렬식 계산\n",
        "    if matrix.shape[0] == matrix.shape[1]:\n",
        "        return np.abs(np.linalg.det(matrix))\n",
        "    else:\n",
        "        return 0  # 정사각 행렬이 아닌 경우 0 반환\n",
        "\n",
        "def evaluate_population(population, vectors):\n",
        "    fitness_scores = []\n",
        "    for indices in population:\n",
        "        # n x n 부분 행렬 형성\n",
        "        matrix = vectors[:, indices][:, :vectors.shape[0]]\n",
        "        fitness_scores.append(fitness(matrix))\n",
        "    return np.array(fitness_scores)\n",
        "\n",
        "# 예시 실행\n",
        "# vectors는 20 x 10000 크기의 행렬로 가정\n",
        "vectors = np.random.rand(20, 10000)\n",
        "fitness_scores = evaluate_population(population, vectors)\n"
      ],
      "metadata": {
        "id": "-pTeeGHCy7i8"
      },
      "execution_count": 15,
      "outputs": []
    },
    {
      "cell_type": "markdown",
      "source": [
        "# 4. 선택"
      ],
      "metadata": {
        "id": "GRee0CU8y7nM"
      }
    },
    {
      "cell_type": "code",
      "source": [
        "def select_parents(population, fitness_scores):\n",
        "    probabilities = fitness_scores / fitness_scores.sum()\n",
        "    selected_indices = np.random.choice(len(population), size=len(population), replace=True, p=probabilities)\n",
        "    return population[selected_indices]\n",
        "\n",
        "parents = select_parents(population, fitness_scores)\n"
      ],
      "metadata": {
        "id": "QY7xKkkmy7rE"
      },
      "execution_count": 16,
      "outputs": []
    },
    {
      "cell_type": "markdown",
      "source": [
        "# 5. 교차"
      ],
      "metadata": {
        "id": "su1gX0Svy7ut"
      }
    },
    {
      "cell_type": "code",
      "source": [
        "def crossover(parents):\n",
        "    offspring = []\n",
        "    for i in range(0, len(parents), 2):\n",
        "        parent1 = parents[i]\n",
        "        parent2 = parents[i + 1]\n",
        "        cut = np.random.randint(1, len(parent1)-1)\n",
        "        child1 = np.concatenate([parent1[:cut], parent2[cut:]])\n",
        "        child2 = np.concatenate([parent2[:cut], parent1[cut:]])\n",
        "        offspring.extend([child1, child2])\n",
        "    return np.array(offspring)\n",
        "\n",
        "offspring = crossover(parents)\n"
      ],
      "metadata": {
        "id": "BGDmmT50y7yG"
      },
      "execution_count": 17,
      "outputs": []
    },
    {
      "cell_type": "markdown",
      "source": [
        "# 6. 돌연변이"
      ],
      "metadata": {
        "id": "5QX2JyP-y71k"
      }
    },
    {
      "cell_type": "code",
      "source": [
        "# 돌연변이 함수\n",
        "def mutation(offspring_crossover, mutation_rate, num_vectors):\n",
        "    for idx in range(offspring_crossover.shape[0]):\n",
        "        if np.random.rand() < mutation_rate:\n",
        "            random_index = np.random.randint(offspring_crossover.shape[1])\n",
        "            random_value = np.random.randint(num_vectors)\n",
        "            offspring_crossover[idx, random_index] = random_value\n",
        "    return offspring_crossover\n",
        "# 돌연변이 함수 호출\n",
        "num_vectors = 10000  # 전체 벡터의 수 설정\n",
        "mutated_offspring = mutation(offspring, mutation_rate, num_vectors)\n"
      ],
      "metadata": {
        "id": "nz8PYd24y74c"
      },
      "execution_count": 20,
      "outputs": []
    },
    {
      "cell_type": "markdown",
      "source": [
        "# 7-8. 새로운 세대 생성 및 종료 조건 검사"
      ],
      "metadata": {
        "id": "aYOkXo1wy77U"
      }
    },
    {
      "cell_type": "code",
      "source": [
        "for generation in range(num_generations):\n",
        "    fitness_scores = evaluate_population(population, vectors)\n",
        "    parents = select_parents(population, fitness_scores)\n",
        "    offspring = crossover(parents)  # 여기서 두 번째 인자 제거\n",
        "    mutated_offspring = mutation(offspring, mutation_rate, num_vectors)\n",
        "    population = mutated_offspring\n",
        "    # 종료 조건 검사\n",
        "    # ...\n"
      ],
      "metadata": {
        "id": "zQYG-Bxby7-d"
      },
      "execution_count": 23,
      "outputs": []
    },
    {
      "cell_type": "markdown",
      "source": [
        "# 9. 결과 추출"
      ],
      "metadata": {
        "id": "vQfVxQ2Iy8Bd"
      }
    },
    {
      "cell_type": "code",
      "source": [
        "final_fitness = evaluate_population(population, vectors)\n",
        "best_index = np.argmax(final_fitness)\n",
        "best_solution = population[best_index]\n",
        "best_volume = final_fitness[best_index]\n",
        "\n",
        "print(\"최대 볼륨:\", best_volume)\n",
        "print(\"해당 벡터의 인덱스:\", best_solution)\n"
      ],
      "metadata": {
        "id": "IxxUgyNQzQEo",
        "colab": {
          "base_uri": "https://localhost:8080/"
        },
        "outputId": "1a9e3b19-24ce-4bcb-aa94-8aeb8ace4383"
      },
      "execution_count": 24,
      "outputs": [
        {
          "output_type": "stream",
          "name": "stdout",
          "text": [
            "최대 볼륨: 6.14369742047458\n",
            "해당 벡터의 인덱스: [4363 5971 6300 4052 2972 3113 1792 8026 7706 8688 3253 4906 4756 5630\n",
            " 5272 5343 7812  479 9516 4664]\n"
          ]
        }
      ]
    },
    {
      "cell_type": "code",
      "source": [],
      "metadata": {
        "id": "aIVdVdc93oKB"
      },
      "execution_count": null,
      "outputs": []
    }
  ]
}